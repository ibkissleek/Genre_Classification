{
  "nbformat": 4,
  "nbformat_minor": 0,
  "metadata": {
    "colab": {
      "provenance": []
    },
    "kernelspec": {
      "name": "python3",
      "display_name": "Python 3"
    },
    "language_info": {
      "name": "python"
    }
  },
  "cells": [
    {
      "cell_type": "code",
      "execution_count": 1,
      "metadata": {
        "id": "T_XNtTUw-eZs"
      },
      "outputs": [],
      "source": [
        "import numpy as np\n",
        "import pandas as pd\n",
        "import matplotlib.pyplot as plt\n",
        "import seaborn as sns\n",
        "from sklearn.preprocessing import LabelEncoder, StandardScaler"
      ]
    },
    {
      "cell_type": "code",
      "source": [
        "gc = pd.read_csv('/content/nigerian_spotify_songs1.csv')"
      ],
      "metadata": {
        "id": "iTuNigMEDhHz"
      },
      "execution_count": 39,
      "outputs": []
    },
    {
      "cell_type": "code",
      "source": [
        "gc.head()"
      ],
      "metadata": {
        "colab": {
          "base_uri": "https://localhost:8080/",
          "height": 348
        },
        "id": "a0y41OABErAM",
        "outputId": "bf26d40d-fa76-4c3b-9828-145eb5cbf26b"
      },
      "execution_count": 40,
      "outputs": [
        {
          "output_type": "execute_result",
          "data": {
            "text/plain": [
              "                       name                         album  \\\n",
              "0                    Sparky            Mandy & The Jungle   \n",
              "1                shuga rush  EVERYTHING YOU HEARD IS TRUE   \n",
              "2                     LITT!                         LITT!   \n",
              "3  Confident / Feeling Cool               Enjoy Your Life   \n",
              "4                wanted you                         rare.   \n",
              "\n",
              "                artist artist_top_genre  release_date  length  popularity  \\\n",
              "0        Cruel Santino  alternative r&b          2019  144000          48   \n",
              "1  Odunsi (The Engine)          afropop          2020   89488          30   \n",
              "2                 AYLØ        indie r&b          2018  207758          40   \n",
              "3           Lady Donli     nigerian pop          2019  175135          14   \n",
              "4  Odunsi (The Engine)          afropop          2018  152049          25   \n",
              "\n",
              "   danceability  acousticness  energy  instrumentalness  liveness  loudness  \\\n",
              "0         0.666        0.8510   0.420          0.534000    0.1100    -6.699   \n",
              "1         0.710        0.0822   0.683          0.000169    0.1010    -5.640   \n",
              "2         0.836        0.2720   0.564          0.000537    0.1100    -7.127   \n",
              "3         0.894        0.7980   0.611          0.000187    0.0964    -4.961   \n",
              "4         0.702        0.1160   0.833          0.910000    0.3480    -6.044   \n",
              "\n",
              "   speechiness    tempo  time_signature  \n",
              "0       0.0829  133.015               5  \n",
              "1       0.3600  129.993               3  \n",
              "2       0.0424  130.005               4  \n",
              "3       0.1130  111.087               4  \n",
              "4       0.0447  105.115               4  "
            ],
            "text/html": [
              "\n",
              "  <div id=\"df-1d84526b-2ff8-4ba7-8817-7d61603a2296\" class=\"colab-df-container\">\n",
              "    <div>\n",
              "<style scoped>\n",
              "    .dataframe tbody tr th:only-of-type {\n",
              "        vertical-align: middle;\n",
              "    }\n",
              "\n",
              "    .dataframe tbody tr th {\n",
              "        vertical-align: top;\n",
              "    }\n",
              "\n",
              "    .dataframe thead th {\n",
              "        text-align: right;\n",
              "    }\n",
              "</style>\n",
              "<table border=\"1\" class=\"dataframe\">\n",
              "  <thead>\n",
              "    <tr style=\"text-align: right;\">\n",
              "      <th></th>\n",
              "      <th>name</th>\n",
              "      <th>album</th>\n",
              "      <th>artist</th>\n",
              "      <th>artist_top_genre</th>\n",
              "      <th>release_date</th>\n",
              "      <th>length</th>\n",
              "      <th>popularity</th>\n",
              "      <th>danceability</th>\n",
              "      <th>acousticness</th>\n",
              "      <th>energy</th>\n",
              "      <th>instrumentalness</th>\n",
              "      <th>liveness</th>\n",
              "      <th>loudness</th>\n",
              "      <th>speechiness</th>\n",
              "      <th>tempo</th>\n",
              "      <th>time_signature</th>\n",
              "    </tr>\n",
              "  </thead>\n",
              "  <tbody>\n",
              "    <tr>\n",
              "      <th>0</th>\n",
              "      <td>Sparky</td>\n",
              "      <td>Mandy &amp; The Jungle</td>\n",
              "      <td>Cruel Santino</td>\n",
              "      <td>alternative r&amp;b</td>\n",
              "      <td>2019</td>\n",
              "      <td>144000</td>\n",
              "      <td>48</td>\n",
              "      <td>0.666</td>\n",
              "      <td>0.8510</td>\n",
              "      <td>0.420</td>\n",
              "      <td>0.534000</td>\n",
              "      <td>0.1100</td>\n",
              "      <td>-6.699</td>\n",
              "      <td>0.0829</td>\n",
              "      <td>133.015</td>\n",
              "      <td>5</td>\n",
              "    </tr>\n",
              "    <tr>\n",
              "      <th>1</th>\n",
              "      <td>shuga rush</td>\n",
              "      <td>EVERYTHING YOU HEARD IS TRUE</td>\n",
              "      <td>Odunsi (The Engine)</td>\n",
              "      <td>afropop</td>\n",
              "      <td>2020</td>\n",
              "      <td>89488</td>\n",
              "      <td>30</td>\n",
              "      <td>0.710</td>\n",
              "      <td>0.0822</td>\n",
              "      <td>0.683</td>\n",
              "      <td>0.000169</td>\n",
              "      <td>0.1010</td>\n",
              "      <td>-5.640</td>\n",
              "      <td>0.3600</td>\n",
              "      <td>129.993</td>\n",
              "      <td>3</td>\n",
              "    </tr>\n",
              "    <tr>\n",
              "      <th>2</th>\n",
              "      <td>LITT!</td>\n",
              "      <td>LITT!</td>\n",
              "      <td>AYLØ</td>\n",
              "      <td>indie r&amp;b</td>\n",
              "      <td>2018</td>\n",
              "      <td>207758</td>\n",
              "      <td>40</td>\n",
              "      <td>0.836</td>\n",
              "      <td>0.2720</td>\n",
              "      <td>0.564</td>\n",
              "      <td>0.000537</td>\n",
              "      <td>0.1100</td>\n",
              "      <td>-7.127</td>\n",
              "      <td>0.0424</td>\n",
              "      <td>130.005</td>\n",
              "      <td>4</td>\n",
              "    </tr>\n",
              "    <tr>\n",
              "      <th>3</th>\n",
              "      <td>Confident / Feeling Cool</td>\n",
              "      <td>Enjoy Your Life</td>\n",
              "      <td>Lady Donli</td>\n",
              "      <td>nigerian pop</td>\n",
              "      <td>2019</td>\n",
              "      <td>175135</td>\n",
              "      <td>14</td>\n",
              "      <td>0.894</td>\n",
              "      <td>0.7980</td>\n",
              "      <td>0.611</td>\n",
              "      <td>0.000187</td>\n",
              "      <td>0.0964</td>\n",
              "      <td>-4.961</td>\n",
              "      <td>0.1130</td>\n",
              "      <td>111.087</td>\n",
              "      <td>4</td>\n",
              "    </tr>\n",
              "    <tr>\n",
              "      <th>4</th>\n",
              "      <td>wanted you</td>\n",
              "      <td>rare.</td>\n",
              "      <td>Odunsi (The Engine)</td>\n",
              "      <td>afropop</td>\n",
              "      <td>2018</td>\n",
              "      <td>152049</td>\n",
              "      <td>25</td>\n",
              "      <td>0.702</td>\n",
              "      <td>0.1160</td>\n",
              "      <td>0.833</td>\n",
              "      <td>0.910000</td>\n",
              "      <td>0.3480</td>\n",
              "      <td>-6.044</td>\n",
              "      <td>0.0447</td>\n",
              "      <td>105.115</td>\n",
              "      <td>4</td>\n",
              "    </tr>\n",
              "  </tbody>\n",
              "</table>\n",
              "</div>\n",
              "    <div class=\"colab-df-buttons\">\n",
              "\n",
              "  <div class=\"colab-df-container\">\n",
              "    <button class=\"colab-df-convert\" onclick=\"convertToInteractive('df-1d84526b-2ff8-4ba7-8817-7d61603a2296')\"\n",
              "            title=\"Convert this dataframe to an interactive table.\"\n",
              "            style=\"display:none;\">\n",
              "\n",
              "  <svg xmlns=\"http://www.w3.org/2000/svg\" height=\"24px\" viewBox=\"0 -960 960 960\">\n",
              "    <path d=\"M120-120v-720h720v720H120Zm60-500h600v-160H180v160Zm220 220h160v-160H400v160Zm0 220h160v-160H400v160ZM180-400h160v-160H180v160Zm440 0h160v-160H620v160ZM180-180h160v-160H180v160Zm440 0h160v-160H620v160Z\"/>\n",
              "  </svg>\n",
              "    </button>\n",
              "\n",
              "  <style>\n",
              "    .colab-df-container {\n",
              "      display:flex;\n",
              "      gap: 12px;\n",
              "    }\n",
              "\n",
              "    .colab-df-convert {\n",
              "      background-color: #E8F0FE;\n",
              "      border: none;\n",
              "      border-radius: 50%;\n",
              "      cursor: pointer;\n",
              "      display: none;\n",
              "      fill: #1967D2;\n",
              "      height: 32px;\n",
              "      padding: 0 0 0 0;\n",
              "      width: 32px;\n",
              "    }\n",
              "\n",
              "    .colab-df-convert:hover {\n",
              "      background-color: #E2EBFA;\n",
              "      box-shadow: 0px 1px 2px rgba(60, 64, 67, 0.3), 0px 1px 3px 1px rgba(60, 64, 67, 0.15);\n",
              "      fill: #174EA6;\n",
              "    }\n",
              "\n",
              "    .colab-df-buttons div {\n",
              "      margin-bottom: 4px;\n",
              "    }\n",
              "\n",
              "    [theme=dark] .colab-df-convert {\n",
              "      background-color: #3B4455;\n",
              "      fill: #D2E3FC;\n",
              "    }\n",
              "\n",
              "    [theme=dark] .colab-df-convert:hover {\n",
              "      background-color: #434B5C;\n",
              "      box-shadow: 0px 1px 3px 1px rgba(0, 0, 0, 0.15);\n",
              "      filter: drop-shadow(0px 1px 2px rgba(0, 0, 0, 0.3));\n",
              "      fill: #FFFFFF;\n",
              "    }\n",
              "  </style>\n",
              "\n",
              "    <script>\n",
              "      const buttonEl =\n",
              "        document.querySelector('#df-1d84526b-2ff8-4ba7-8817-7d61603a2296 button.colab-df-convert');\n",
              "      buttonEl.style.display =\n",
              "        google.colab.kernel.accessAllowed ? 'block' : 'none';\n",
              "\n",
              "      async function convertToInteractive(key) {\n",
              "        const element = document.querySelector('#df-1d84526b-2ff8-4ba7-8817-7d61603a2296');\n",
              "        const dataTable =\n",
              "          await google.colab.kernel.invokeFunction('convertToInteractive',\n",
              "                                                    [key], {});\n",
              "        if (!dataTable) return;\n",
              "\n",
              "        const docLinkHtml = 'Like what you see? Visit the ' +\n",
              "          '<a target=\"_blank\" href=https://colab.research.google.com/notebooks/data_table.ipynb>data table notebook</a>'\n",
              "          + ' to learn more about interactive tables.';\n",
              "        element.innerHTML = '';\n",
              "        dataTable['output_type'] = 'display_data';\n",
              "        await google.colab.output.renderOutput(dataTable, element);\n",
              "        const docLink = document.createElement('div');\n",
              "        docLink.innerHTML = docLinkHtml;\n",
              "        element.appendChild(docLink);\n",
              "      }\n",
              "    </script>\n",
              "  </div>\n",
              "\n",
              "\n",
              "<div id=\"df-fc67853f-c5d6-446c-a11a-9d289824d904\">\n",
              "  <button class=\"colab-df-quickchart\" onclick=\"quickchart('df-fc67853f-c5d6-446c-a11a-9d289824d904')\"\n",
              "            title=\"Suggest charts\"\n",
              "            style=\"display:none;\">\n",
              "\n",
              "<svg xmlns=\"http://www.w3.org/2000/svg\" height=\"24px\"viewBox=\"0 0 24 24\"\n",
              "     width=\"24px\">\n",
              "    <g>\n",
              "        <path d=\"M19 3H5c-1.1 0-2 .9-2 2v14c0 1.1.9 2 2 2h14c1.1 0 2-.9 2-2V5c0-1.1-.9-2-2-2zM9 17H7v-7h2v7zm4 0h-2V7h2v10zm4 0h-2v-4h2v4z\"/>\n",
              "    </g>\n",
              "</svg>\n",
              "  </button>\n",
              "\n",
              "<style>\n",
              "  .colab-df-quickchart {\n",
              "      --bg-color: #E8F0FE;\n",
              "      --fill-color: #1967D2;\n",
              "      --hover-bg-color: #E2EBFA;\n",
              "      --hover-fill-color: #174EA6;\n",
              "      --disabled-fill-color: #AAA;\n",
              "      --disabled-bg-color: #DDD;\n",
              "  }\n",
              "\n",
              "  [theme=dark] .colab-df-quickchart {\n",
              "      --bg-color: #3B4455;\n",
              "      --fill-color: #D2E3FC;\n",
              "      --hover-bg-color: #434B5C;\n",
              "      --hover-fill-color: #FFFFFF;\n",
              "      --disabled-bg-color: #3B4455;\n",
              "      --disabled-fill-color: #666;\n",
              "  }\n",
              "\n",
              "  .colab-df-quickchart {\n",
              "    background-color: var(--bg-color);\n",
              "    border: none;\n",
              "    border-radius: 50%;\n",
              "    cursor: pointer;\n",
              "    display: none;\n",
              "    fill: var(--fill-color);\n",
              "    height: 32px;\n",
              "    padding: 0;\n",
              "    width: 32px;\n",
              "  }\n",
              "\n",
              "  .colab-df-quickchart:hover {\n",
              "    background-color: var(--hover-bg-color);\n",
              "    box-shadow: 0 1px 2px rgba(60, 64, 67, 0.3), 0 1px 3px 1px rgba(60, 64, 67, 0.15);\n",
              "    fill: var(--button-hover-fill-color);\n",
              "  }\n",
              "\n",
              "  .colab-df-quickchart-complete:disabled,\n",
              "  .colab-df-quickchart-complete:disabled:hover {\n",
              "    background-color: var(--disabled-bg-color);\n",
              "    fill: var(--disabled-fill-color);\n",
              "    box-shadow: none;\n",
              "  }\n",
              "\n",
              "  .colab-df-spinner {\n",
              "    border: 2px solid var(--fill-color);\n",
              "    border-color: transparent;\n",
              "    border-bottom-color: var(--fill-color);\n",
              "    animation:\n",
              "      spin 1s steps(1) infinite;\n",
              "  }\n",
              "\n",
              "  @keyframes spin {\n",
              "    0% {\n",
              "      border-color: transparent;\n",
              "      border-bottom-color: var(--fill-color);\n",
              "      border-left-color: var(--fill-color);\n",
              "    }\n",
              "    20% {\n",
              "      border-color: transparent;\n",
              "      border-left-color: var(--fill-color);\n",
              "      border-top-color: var(--fill-color);\n",
              "    }\n",
              "    30% {\n",
              "      border-color: transparent;\n",
              "      border-left-color: var(--fill-color);\n",
              "      border-top-color: var(--fill-color);\n",
              "      border-right-color: var(--fill-color);\n",
              "    }\n",
              "    40% {\n",
              "      border-color: transparent;\n",
              "      border-right-color: var(--fill-color);\n",
              "      border-top-color: var(--fill-color);\n",
              "    }\n",
              "    60% {\n",
              "      border-color: transparent;\n",
              "      border-right-color: var(--fill-color);\n",
              "    }\n",
              "    80% {\n",
              "      border-color: transparent;\n",
              "      border-right-color: var(--fill-color);\n",
              "      border-bottom-color: var(--fill-color);\n",
              "    }\n",
              "    90% {\n",
              "      border-color: transparent;\n",
              "      border-bottom-color: var(--fill-color);\n",
              "    }\n",
              "  }\n",
              "</style>\n",
              "\n",
              "  <script>\n",
              "    async function quickchart(key) {\n",
              "      const quickchartButtonEl =\n",
              "        document.querySelector('#' + key + ' button');\n",
              "      quickchartButtonEl.disabled = true;  // To prevent multiple clicks.\n",
              "      quickchartButtonEl.classList.add('colab-df-spinner');\n",
              "      try {\n",
              "        const charts = await google.colab.kernel.invokeFunction(\n",
              "            'suggestCharts', [key], {});\n",
              "      } catch (error) {\n",
              "        console.error('Error during call to suggestCharts:', error);\n",
              "      }\n",
              "      quickchartButtonEl.classList.remove('colab-df-spinner');\n",
              "      quickchartButtonEl.classList.add('colab-df-quickchart-complete');\n",
              "    }\n",
              "    (() => {\n",
              "      let quickchartButtonEl =\n",
              "        document.querySelector('#df-fc67853f-c5d6-446c-a11a-9d289824d904 button');\n",
              "      quickchartButtonEl.style.display =\n",
              "        google.colab.kernel.accessAllowed ? 'block' : 'none';\n",
              "    })();\n",
              "  </script>\n",
              "</div>\n",
              "\n",
              "    </div>\n",
              "  </div>\n"
            ]
          },
          "metadata": {},
          "execution_count": 40
        }
      ]
    },
    {
      "cell_type": "code",
      "source": [
        "gc.artist.value_counts()"
      ],
      "metadata": {
        "colab": {
          "base_uri": "https://localhost:8080/"
        },
        "id": "fReKQCuZEt2c",
        "outputId": "01255a4e-5ebd-499e-f90d-e50d49e3e569"
      },
      "execution_count": 14,
      "outputs": [
        {
          "output_type": "execute_result",
          "data": {
            "text/plain": [
              "Various Artists    37\n",
              "Flavour            19\n",
              "P-Square           18\n",
              "WizKid             18\n",
              "DaVido             17\n",
              "                   ..\n",
              "Pheelz              1\n",
              "Tjan                1\n",
              "E.L                 1\n",
              "Julz                1\n",
              "BM                  1\n",
              "Name: artist, Length: 171, dtype: int64"
            ]
          },
          "metadata": {},
          "execution_count": 14
        }
      ]
    },
    {
      "cell_type": "code",
      "source": [
        "gc.shape"
      ],
      "metadata": {
        "colab": {
          "base_uri": "https://localhost:8080/"
        },
        "id": "xPTlLnxoI9Ge",
        "outputId": "006ebbef-03de-47f6-fec2-91efbb89a70c"
      },
      "execution_count": 9,
      "outputs": [
        {
          "output_type": "execute_result",
          "data": {
            "text/plain": [
              "(530, 16)"
            ]
          },
          "metadata": {},
          "execution_count": 9
        }
      ]
    },
    {
      "cell_type": "code",
      "source": [
        "gc.info()"
      ],
      "metadata": {
        "colab": {
          "base_uri": "https://localhost:8080/"
        },
        "id": "IbfK-lGfE4HN",
        "outputId": "8d762c7b-f2f8-4c89-fa97-c3335bbfb41f"
      },
      "execution_count": 5,
      "outputs": [
        {
          "output_type": "stream",
          "name": "stdout",
          "text": [
            "<class 'pandas.core.frame.DataFrame'>\n",
            "RangeIndex: 530 entries, 0 to 529\n",
            "Data columns (total 16 columns):\n",
            " #   Column            Non-Null Count  Dtype  \n",
            "---  ------            --------------  -----  \n",
            " 0   name              530 non-null    object \n",
            " 1   album             530 non-null    object \n",
            " 2   artist            530 non-null    object \n",
            " 3   artist_top_genre  530 non-null    object \n",
            " 4   release_date      530 non-null    int64  \n",
            " 5   length            530 non-null    int64  \n",
            " 6   popularity        530 non-null    int64  \n",
            " 7   danceability      530 non-null    float64\n",
            " 8   acousticness      530 non-null    float64\n",
            " 9   energy            530 non-null    float64\n",
            " 10  instrumentalness  530 non-null    float64\n",
            " 11  liveness          530 non-null    float64\n",
            " 12  loudness          530 non-null    float64\n",
            " 13  speechiness       530 non-null    float64\n",
            " 14  tempo             530 non-null    float64\n",
            " 15  time_signature    530 non-null    int64  \n",
            "dtypes: float64(8), int64(4), object(4)\n",
            "memory usage: 66.4+ KB\n"
          ]
        }
      ]
    },
    {
      "cell_type": "code",
      "source": [
        "gc.describe()"
      ],
      "metadata": {
        "colab": {
          "base_uri": "https://localhost:8080/",
          "height": 320
        },
        "id": "_X8naWNgHI6K",
        "outputId": "ed5bbacf-2795-496d-b87e-a9d83b83d41f"
      },
      "execution_count": 6,
      "outputs": [
        {
          "output_type": "execute_result",
          "data": {
            "text/plain": [
              "       release_date         length  popularity  danceability  acousticness  \\\n",
              "count    530.000000     530.000000  530.000000    530.000000    530.000000   \n",
              "mean    2015.390566  222298.169811   17.507547      0.741619      0.265412   \n",
              "std        3.131688   39696.822259   18.992212      0.117522      0.208342   \n",
              "min     1998.000000   89488.000000    0.000000      0.255000      0.000665   \n",
              "25%     2014.000000  199305.000000    0.000000      0.681000      0.089525   \n",
              "50%     2016.000000  218509.000000   13.000000      0.761000      0.220500   \n",
              "75%     2017.000000  242098.500000   31.000000      0.829500      0.403000   \n",
              "max     2020.000000  511738.000000   73.000000      0.966000      0.954000   \n",
              "\n",
              "           energy  instrumentalness    liveness    loudness  speechiness  \\\n",
              "count  530.000000        530.000000  530.000000  530.000000   530.000000   \n",
              "mean     0.760623          0.016305    0.147308   -4.953011     0.130748   \n",
              "std      0.148533          0.090321    0.123588    2.464186     0.092939   \n",
              "min      0.111000          0.000000    0.028300  -19.362000     0.027800   \n",
              "25%      0.669000          0.000000    0.075650   -6.298750     0.059100   \n",
              "50%      0.784500          0.000004    0.103500   -4.558500     0.097950   \n",
              "75%      0.875750          0.000234    0.164000   -3.331000     0.177000   \n",
              "max      0.995000          0.910000    0.811000    0.582000     0.514000   \n",
              "\n",
              "            tempo  time_signature  \n",
              "count  530.000000      530.000000  \n",
              "mean   116.487864        3.986792  \n",
              "std     23.518601        0.333701  \n",
              "min     61.695000        3.000000  \n",
              "25%    102.961250        4.000000  \n",
              "50%    112.714500        4.000000  \n",
              "75%    125.039250        4.000000  \n",
              "max    206.007000        5.000000  "
            ],
            "text/html": [
              "\n",
              "  <div id=\"df-bd73908b-84e9-4e60-af7d-e88cc1040aae\" class=\"colab-df-container\">\n",
              "    <div>\n",
              "<style scoped>\n",
              "    .dataframe tbody tr th:only-of-type {\n",
              "        vertical-align: middle;\n",
              "    }\n",
              "\n",
              "    .dataframe tbody tr th {\n",
              "        vertical-align: top;\n",
              "    }\n",
              "\n",
              "    .dataframe thead th {\n",
              "        text-align: right;\n",
              "    }\n",
              "</style>\n",
              "<table border=\"1\" class=\"dataframe\">\n",
              "  <thead>\n",
              "    <tr style=\"text-align: right;\">\n",
              "      <th></th>\n",
              "      <th>release_date</th>\n",
              "      <th>length</th>\n",
              "      <th>popularity</th>\n",
              "      <th>danceability</th>\n",
              "      <th>acousticness</th>\n",
              "      <th>energy</th>\n",
              "      <th>instrumentalness</th>\n",
              "      <th>liveness</th>\n",
              "      <th>loudness</th>\n",
              "      <th>speechiness</th>\n",
              "      <th>tempo</th>\n",
              "      <th>time_signature</th>\n",
              "    </tr>\n",
              "  </thead>\n",
              "  <tbody>\n",
              "    <tr>\n",
              "      <th>count</th>\n",
              "      <td>530.000000</td>\n",
              "      <td>530.000000</td>\n",
              "      <td>530.000000</td>\n",
              "      <td>530.000000</td>\n",
              "      <td>530.000000</td>\n",
              "      <td>530.000000</td>\n",
              "      <td>530.000000</td>\n",
              "      <td>530.000000</td>\n",
              "      <td>530.000000</td>\n",
              "      <td>530.000000</td>\n",
              "      <td>530.000000</td>\n",
              "      <td>530.000000</td>\n",
              "    </tr>\n",
              "    <tr>\n",
              "      <th>mean</th>\n",
              "      <td>2015.390566</td>\n",
              "      <td>222298.169811</td>\n",
              "      <td>17.507547</td>\n",
              "      <td>0.741619</td>\n",
              "      <td>0.265412</td>\n",
              "      <td>0.760623</td>\n",
              "      <td>0.016305</td>\n",
              "      <td>0.147308</td>\n",
              "      <td>-4.953011</td>\n",
              "      <td>0.130748</td>\n",
              "      <td>116.487864</td>\n",
              "      <td>3.986792</td>\n",
              "    </tr>\n",
              "    <tr>\n",
              "      <th>std</th>\n",
              "      <td>3.131688</td>\n",
              "      <td>39696.822259</td>\n",
              "      <td>18.992212</td>\n",
              "      <td>0.117522</td>\n",
              "      <td>0.208342</td>\n",
              "      <td>0.148533</td>\n",
              "      <td>0.090321</td>\n",
              "      <td>0.123588</td>\n",
              "      <td>2.464186</td>\n",
              "      <td>0.092939</td>\n",
              "      <td>23.518601</td>\n",
              "      <td>0.333701</td>\n",
              "    </tr>\n",
              "    <tr>\n",
              "      <th>min</th>\n",
              "      <td>1998.000000</td>\n",
              "      <td>89488.000000</td>\n",
              "      <td>0.000000</td>\n",
              "      <td>0.255000</td>\n",
              "      <td>0.000665</td>\n",
              "      <td>0.111000</td>\n",
              "      <td>0.000000</td>\n",
              "      <td>0.028300</td>\n",
              "      <td>-19.362000</td>\n",
              "      <td>0.027800</td>\n",
              "      <td>61.695000</td>\n",
              "      <td>3.000000</td>\n",
              "    </tr>\n",
              "    <tr>\n",
              "      <th>25%</th>\n",
              "      <td>2014.000000</td>\n",
              "      <td>199305.000000</td>\n",
              "      <td>0.000000</td>\n",
              "      <td>0.681000</td>\n",
              "      <td>0.089525</td>\n",
              "      <td>0.669000</td>\n",
              "      <td>0.000000</td>\n",
              "      <td>0.075650</td>\n",
              "      <td>-6.298750</td>\n",
              "      <td>0.059100</td>\n",
              "      <td>102.961250</td>\n",
              "      <td>4.000000</td>\n",
              "    </tr>\n",
              "    <tr>\n",
              "      <th>50%</th>\n",
              "      <td>2016.000000</td>\n",
              "      <td>218509.000000</td>\n",
              "      <td>13.000000</td>\n",
              "      <td>0.761000</td>\n",
              "      <td>0.220500</td>\n",
              "      <td>0.784500</td>\n",
              "      <td>0.000004</td>\n",
              "      <td>0.103500</td>\n",
              "      <td>-4.558500</td>\n",
              "      <td>0.097950</td>\n",
              "      <td>112.714500</td>\n",
              "      <td>4.000000</td>\n",
              "    </tr>\n",
              "    <tr>\n",
              "      <th>75%</th>\n",
              "      <td>2017.000000</td>\n",
              "      <td>242098.500000</td>\n",
              "      <td>31.000000</td>\n",
              "      <td>0.829500</td>\n",
              "      <td>0.403000</td>\n",
              "      <td>0.875750</td>\n",
              "      <td>0.000234</td>\n",
              "      <td>0.164000</td>\n",
              "      <td>-3.331000</td>\n",
              "      <td>0.177000</td>\n",
              "      <td>125.039250</td>\n",
              "      <td>4.000000</td>\n",
              "    </tr>\n",
              "    <tr>\n",
              "      <th>max</th>\n",
              "      <td>2020.000000</td>\n",
              "      <td>511738.000000</td>\n",
              "      <td>73.000000</td>\n",
              "      <td>0.966000</td>\n",
              "      <td>0.954000</td>\n",
              "      <td>0.995000</td>\n",
              "      <td>0.910000</td>\n",
              "      <td>0.811000</td>\n",
              "      <td>0.582000</td>\n",
              "      <td>0.514000</td>\n",
              "      <td>206.007000</td>\n",
              "      <td>5.000000</td>\n",
              "    </tr>\n",
              "  </tbody>\n",
              "</table>\n",
              "</div>\n",
              "    <div class=\"colab-df-buttons\">\n",
              "\n",
              "  <div class=\"colab-df-container\">\n",
              "    <button class=\"colab-df-convert\" onclick=\"convertToInteractive('df-bd73908b-84e9-4e60-af7d-e88cc1040aae')\"\n",
              "            title=\"Convert this dataframe to an interactive table.\"\n",
              "            style=\"display:none;\">\n",
              "\n",
              "  <svg xmlns=\"http://www.w3.org/2000/svg\" height=\"24px\" viewBox=\"0 -960 960 960\">\n",
              "    <path d=\"M120-120v-720h720v720H120Zm60-500h600v-160H180v160Zm220 220h160v-160H400v160Zm0 220h160v-160H400v160ZM180-400h160v-160H180v160Zm440 0h160v-160H620v160ZM180-180h160v-160H180v160Zm440 0h160v-160H620v160Z\"/>\n",
              "  </svg>\n",
              "    </button>\n",
              "\n",
              "  <style>\n",
              "    .colab-df-container {\n",
              "      display:flex;\n",
              "      gap: 12px;\n",
              "    }\n",
              "\n",
              "    .colab-df-convert {\n",
              "      background-color: #E8F0FE;\n",
              "      border: none;\n",
              "      border-radius: 50%;\n",
              "      cursor: pointer;\n",
              "      display: none;\n",
              "      fill: #1967D2;\n",
              "      height: 32px;\n",
              "      padding: 0 0 0 0;\n",
              "      width: 32px;\n",
              "    }\n",
              "\n",
              "    .colab-df-convert:hover {\n",
              "      background-color: #E2EBFA;\n",
              "      box-shadow: 0px 1px 2px rgba(60, 64, 67, 0.3), 0px 1px 3px 1px rgba(60, 64, 67, 0.15);\n",
              "      fill: #174EA6;\n",
              "    }\n",
              "\n",
              "    .colab-df-buttons div {\n",
              "      margin-bottom: 4px;\n",
              "    }\n",
              "\n",
              "    [theme=dark] .colab-df-convert {\n",
              "      background-color: #3B4455;\n",
              "      fill: #D2E3FC;\n",
              "    }\n",
              "\n",
              "    [theme=dark] .colab-df-convert:hover {\n",
              "      background-color: #434B5C;\n",
              "      box-shadow: 0px 1px 3px 1px rgba(0, 0, 0, 0.15);\n",
              "      filter: drop-shadow(0px 1px 2px rgba(0, 0, 0, 0.3));\n",
              "      fill: #FFFFFF;\n",
              "    }\n",
              "  </style>\n",
              "\n",
              "    <script>\n",
              "      const buttonEl =\n",
              "        document.querySelector('#df-bd73908b-84e9-4e60-af7d-e88cc1040aae button.colab-df-convert');\n",
              "      buttonEl.style.display =\n",
              "        google.colab.kernel.accessAllowed ? 'block' : 'none';\n",
              "\n",
              "      async function convertToInteractive(key) {\n",
              "        const element = document.querySelector('#df-bd73908b-84e9-4e60-af7d-e88cc1040aae');\n",
              "        const dataTable =\n",
              "          await google.colab.kernel.invokeFunction('convertToInteractive',\n",
              "                                                    [key], {});\n",
              "        if (!dataTable) return;\n",
              "\n",
              "        const docLinkHtml = 'Like what you see? Visit the ' +\n",
              "          '<a target=\"_blank\" href=https://colab.research.google.com/notebooks/data_table.ipynb>data table notebook</a>'\n",
              "          + ' to learn more about interactive tables.';\n",
              "        element.innerHTML = '';\n",
              "        dataTable['output_type'] = 'display_data';\n",
              "        await google.colab.output.renderOutput(dataTable, element);\n",
              "        const docLink = document.createElement('div');\n",
              "        docLink.innerHTML = docLinkHtml;\n",
              "        element.appendChild(docLink);\n",
              "      }\n",
              "    </script>\n",
              "  </div>\n",
              "\n",
              "\n",
              "<div id=\"df-b170afd4-decf-4864-b729-a9522c18c5a8\">\n",
              "  <button class=\"colab-df-quickchart\" onclick=\"quickchart('df-b170afd4-decf-4864-b729-a9522c18c5a8')\"\n",
              "            title=\"Suggest charts\"\n",
              "            style=\"display:none;\">\n",
              "\n",
              "<svg xmlns=\"http://www.w3.org/2000/svg\" height=\"24px\"viewBox=\"0 0 24 24\"\n",
              "     width=\"24px\">\n",
              "    <g>\n",
              "        <path d=\"M19 3H5c-1.1 0-2 .9-2 2v14c0 1.1.9 2 2 2h14c1.1 0 2-.9 2-2V5c0-1.1-.9-2-2-2zM9 17H7v-7h2v7zm4 0h-2V7h2v10zm4 0h-2v-4h2v4z\"/>\n",
              "    </g>\n",
              "</svg>\n",
              "  </button>\n",
              "\n",
              "<style>\n",
              "  .colab-df-quickchart {\n",
              "      --bg-color: #E8F0FE;\n",
              "      --fill-color: #1967D2;\n",
              "      --hover-bg-color: #E2EBFA;\n",
              "      --hover-fill-color: #174EA6;\n",
              "      --disabled-fill-color: #AAA;\n",
              "      --disabled-bg-color: #DDD;\n",
              "  }\n",
              "\n",
              "  [theme=dark] .colab-df-quickchart {\n",
              "      --bg-color: #3B4455;\n",
              "      --fill-color: #D2E3FC;\n",
              "      --hover-bg-color: #434B5C;\n",
              "      --hover-fill-color: #FFFFFF;\n",
              "      --disabled-bg-color: #3B4455;\n",
              "      --disabled-fill-color: #666;\n",
              "  }\n",
              "\n",
              "  .colab-df-quickchart {\n",
              "    background-color: var(--bg-color);\n",
              "    border: none;\n",
              "    border-radius: 50%;\n",
              "    cursor: pointer;\n",
              "    display: none;\n",
              "    fill: var(--fill-color);\n",
              "    height: 32px;\n",
              "    padding: 0;\n",
              "    width: 32px;\n",
              "  }\n",
              "\n",
              "  .colab-df-quickchart:hover {\n",
              "    background-color: var(--hover-bg-color);\n",
              "    box-shadow: 0 1px 2px rgba(60, 64, 67, 0.3), 0 1px 3px 1px rgba(60, 64, 67, 0.15);\n",
              "    fill: var(--button-hover-fill-color);\n",
              "  }\n",
              "\n",
              "  .colab-df-quickchart-complete:disabled,\n",
              "  .colab-df-quickchart-complete:disabled:hover {\n",
              "    background-color: var(--disabled-bg-color);\n",
              "    fill: var(--disabled-fill-color);\n",
              "    box-shadow: none;\n",
              "  }\n",
              "\n",
              "  .colab-df-spinner {\n",
              "    border: 2px solid var(--fill-color);\n",
              "    border-color: transparent;\n",
              "    border-bottom-color: var(--fill-color);\n",
              "    animation:\n",
              "      spin 1s steps(1) infinite;\n",
              "  }\n",
              "\n",
              "  @keyframes spin {\n",
              "    0% {\n",
              "      border-color: transparent;\n",
              "      border-bottom-color: var(--fill-color);\n",
              "      border-left-color: var(--fill-color);\n",
              "    }\n",
              "    20% {\n",
              "      border-color: transparent;\n",
              "      border-left-color: var(--fill-color);\n",
              "      border-top-color: var(--fill-color);\n",
              "    }\n",
              "    30% {\n",
              "      border-color: transparent;\n",
              "      border-left-color: var(--fill-color);\n",
              "      border-top-color: var(--fill-color);\n",
              "      border-right-color: var(--fill-color);\n",
              "    }\n",
              "    40% {\n",
              "      border-color: transparent;\n",
              "      border-right-color: var(--fill-color);\n",
              "      border-top-color: var(--fill-color);\n",
              "    }\n",
              "    60% {\n",
              "      border-color: transparent;\n",
              "      border-right-color: var(--fill-color);\n",
              "    }\n",
              "    80% {\n",
              "      border-color: transparent;\n",
              "      border-right-color: var(--fill-color);\n",
              "      border-bottom-color: var(--fill-color);\n",
              "    }\n",
              "    90% {\n",
              "      border-color: transparent;\n",
              "      border-bottom-color: var(--fill-color);\n",
              "    }\n",
              "  }\n",
              "</style>\n",
              "\n",
              "  <script>\n",
              "    async function quickchart(key) {\n",
              "      const quickchartButtonEl =\n",
              "        document.querySelector('#' + key + ' button');\n",
              "      quickchartButtonEl.disabled = true;  // To prevent multiple clicks.\n",
              "      quickchartButtonEl.classList.add('colab-df-spinner');\n",
              "      try {\n",
              "        const charts = await google.colab.kernel.invokeFunction(\n",
              "            'suggestCharts', [key], {});\n",
              "      } catch (error) {\n",
              "        console.error('Error during call to suggestCharts:', error);\n",
              "      }\n",
              "      quickchartButtonEl.classList.remove('colab-df-spinner');\n",
              "      quickchartButtonEl.classList.add('colab-df-quickchart-complete');\n",
              "    }\n",
              "    (() => {\n",
              "      let quickchartButtonEl =\n",
              "        document.querySelector('#df-b170afd4-decf-4864-b729-a9522c18c5a8 button');\n",
              "      quickchartButtonEl.style.display =\n",
              "        google.colab.kernel.accessAllowed ? 'block' : 'none';\n",
              "    })();\n",
              "  </script>\n",
              "</div>\n",
              "\n",
              "    </div>\n",
              "  </div>\n"
            ]
          },
          "metadata": {},
          "execution_count": 6
        }
      ]
    },
    {
      "cell_type": "code",
      "source": [
        "gc.isna().sum()"
      ],
      "metadata": {
        "colab": {
          "base_uri": "https://localhost:8080/"
        },
        "id": "owB6oVXXHNBY",
        "outputId": "ff29b7a1-b80d-4985-930e-8786b0a81e9e"
      },
      "execution_count": 7,
      "outputs": [
        {
          "output_type": "execute_result",
          "data": {
            "text/plain": [
              "name                0\n",
              "album               0\n",
              "artist              0\n",
              "artist_top_genre    0\n",
              "release_date        0\n",
              "length              0\n",
              "popularity          0\n",
              "danceability        0\n",
              "acousticness        0\n",
              "energy              0\n",
              "instrumentalness    0\n",
              "liveness            0\n",
              "loudness            0\n",
              "speechiness         0\n",
              "tempo               0\n",
              "time_signature      0\n",
              "dtype: int64"
            ]
          },
          "metadata": {},
          "execution_count": 7
        }
      ]
    },
    {
      "cell_type": "code",
      "source": [
        "gc = gc.drop_duplicates()"
      ],
      "metadata": {
        "id": "9pmSxIYRHYHp"
      },
      "execution_count": 41,
      "outputs": []
    },
    {
      "cell_type": "code",
      "source": [
        "gc.shape"
      ],
      "metadata": {
        "colab": {
          "base_uri": "https://localhost:8080/"
        },
        "id": "y0Ql2hjEQT_8",
        "outputId": "2ecb51c7-71ea-4785-a0f7-8b3699650192"
      },
      "execution_count": 42,
      "outputs": [
        {
          "output_type": "execute_result",
          "data": {
            "text/plain": [
              "(530, 16)"
            ]
          },
          "metadata": {},
          "execution_count": 42
        }
      ]
    },
    {
      "cell_type": "code",
      "source": [
        "gc.dtypes"
      ],
      "metadata": {
        "colab": {
          "base_uri": "https://localhost:8080/"
        },
        "id": "DLXIDctnJLb4",
        "outputId": "23ca88ed-6a10-45b7-fa90-13828fcb5bf7"
      },
      "execution_count": 11,
      "outputs": [
        {
          "output_type": "execute_result",
          "data": {
            "text/plain": [
              "name                 object\n",
              "album                object\n",
              "artist               object\n",
              "artist_top_genre     object\n",
              "release_date          int64\n",
              "length                int64\n",
              "popularity            int64\n",
              "danceability        float64\n",
              "acousticness        float64\n",
              "energy              float64\n",
              "instrumentalness    float64\n",
              "liveness            float64\n",
              "loudness            float64\n",
              "speechiness         float64\n",
              "tempo               float64\n",
              "time_signature        int64\n",
              "dtype: object"
            ]
          },
          "metadata": {},
          "execution_count": 11
        }
      ]
    },
    {
      "cell_type": "code",
      "source": [
        "loudness_data = gc['loudness']\n",
        "\n",
        "# Plot a histogram\n",
        "plt.figure(figsize=(10, 6))\n",
        "plt.hist(loudness_data, bins=30, color='skyblue', edgecolor='black')\n",
        "plt.title('Distribution of Loudness')\n",
        "plt.xlabel('Loudness')\n",
        "plt.ylabel('Frequency')\n",
        "plt.grid(True)\n",
        "plt.show()"
      ],
      "metadata": {
        "colab": {
          "base_uri": "https://localhost:8080/",
          "height": 564
        },
        "id": "Nhc91-HwSddQ",
        "outputId": "cf238873-0644-4cf5-95b5-060d53d78f16"
      },
      "execution_count": 61,
      "outputs": [
        {
          "output_type": "display_data",
          "data": {
            "text/plain": [
              "<Figure size 1000x600 with 1 Axes>"
            ],
            "image/png": "[encoded data removed]"
          },
          "metadata": {}
        }
      ]
    },
    {
      "cell_type": "code",
      "source": [
        "label_encoder = LabelEncoder()"
      ],
      "metadata": {
        "id": "pewVKLdlKZq1"
      },
      "execution_count": 46,
      "outputs": []
    },
    {
      "cell_type": "code",
      "source": [
        "gc['name']= label_encoder.fit_transform(gc['name'])"
      ],
      "metadata": {
        "id": "uraiq2RhJliy"
      },
      "execution_count": 47,
      "outputs": []
    },
    {
      "cell_type": "code",
      "source": [
        "gc['album']= label_encoder.fit_transform(gc['album'])"
      ],
      "metadata": {
        "id": "InvQnxJ-KrzM"
      },
      "execution_count": 48,
      "outputs": []
    },
    {
      "cell_type": "code",
      "source": [
        "gc['artist_top_genre']= label_encoder.fit_transform(gc['artist_top_genre'])"
      ],
      "metadata": {
        "id": "r7zTpxGaK1Cb"
      },
      "execution_count": 49,
      "outputs": []
    },
    {
      "cell_type": "code",
      "source": [
        "gc['artist']= label_encoder.fit_transform(gc['artist'])"
      ],
      "metadata": {
        "id": "5hLjIrbMRgvD"
      },
      "execution_count": 52,
      "outputs": []
    },
    {
      "cell_type": "code",
      "source": [
        "gc.artist_top_genre.value_counts()"
      ],
      "metadata": {
        "colab": {
          "base_uri": "https://localhost:8080/"
        },
        "id": "0KJHvlkhKUSI",
        "outputId": "f4a7fa05-c769-430c-a7c0-394eb404d3cf"
      },
      "execution_count": 53,
      "outputs": [
        {
          "output_type": "execute_result",
          "data": {
            "text/plain": [
              "1     328\n",
              "3      90\n",
              "0      53\n",
              "16     24\n",
              "7       8\n",
              "5       7\n",
              "14      4\n",
              "2       3\n",
              "15      3\n",
              "11      1\n",
              "4       1\n",
              "8       1\n",
              "18      1\n",
              "13      1\n",
              "12      1\n",
              "10      1\n",
              "17      1\n",
              "6       1\n",
              "9       1\n",
              "Name: artist_top_genre, dtype: int64"
            ]
          },
          "metadata": {},
          "execution_count": 53
        }
      ]
    },
    {
      "cell_type": "code",
      "source": [
        "x = gc.drop(['artist_top_genre', 'loudness', 'length', 'release_date'], axis =1).values\n",
        "y = gc['artist_top_genre'].values"
      ],
      "metadata": {
        "id": "3vi58sOcNS74"
      },
      "execution_count": 54,
      "outputs": []
    },
    {
      "cell_type": "code",
      "source": [
        "x\n"
      ],
      "metadata": {
        "colab": {
          "base_uri": "https://localhost:8080/"
        },
        "id": "INhGjEDsQHCq",
        "outputId": "281566a1-718f-4536-87da-4830e94f7096"
      },
      "execution_count": 55,
      "outputs": [
        {
          "output_type": "execute_result",
          "data": {
            "text/plain": [
              "array([[4.15000e+02, 2.38000e+02, 2.20000e+01, ..., 8.29000e-02,\n",
              "        1.33015e+02, 5.00000e+00],\n",
              "       [4.94000e+02, 1.24000e+02, 9.90000e+01, ..., 3.60000e-01,\n",
              "        1.29993e+02, 3.00000e+00],\n",
              "       [2.37000e+02, 2.15000e+02, 2.00000e+00, ..., 4.24000e-02,\n",
              "        1.30005e+02, 4.00000e+00],\n",
              "       ...,\n",
              "       [2.48000e+02, 3.40000e+01, 5.40000e+01, ..., 6.68000e-02,\n",
              "        1.21058e+02, 4.00000e+00],\n",
              "       [1.54000e+02, 3.40000e+01, 5.40000e+01, ..., 2.34000e-01,\n",
              "        1.23997e+02, 4.00000e+00],\n",
              "       [2.56000e+02, 3.40000e+01, 5.40000e+01, ..., 1.39000e-01,\n",
              "        1.06972e+02, 4.00000e+00]])"
            ]
          },
          "metadata": {},
          "execution_count": 55
        }
      ]
    },
    {
      "cell_type": "code",
      "source": [
        "y"
      ],
      "metadata": {
        "colab": {
          "base_uri": "https://localhost:8080/"
        },
        "id": "1LD70oblQHsv",
        "outputId": "7708c52f-2f94-4467-f3e6-741993caba60"
      },
      "execution_count": 56,
      "outputs": [
        {
          "output_type": "execute_result",
          "data": {
            "text/plain": [
              "array([ 5,  3, 14, 16,  3, 16, 16,  3, 16,  5,  5,  3,  5, 16,  5, 16, 14,\n",
              "        3,  5,  2,  3, 14, 16,  3, 16, 14,  3, 16,  5, 16,  3,  3,  3,  3,\n",
              "        1,  1,  1,  1,  1, 16,  3,  1,  1,  1,  1,  1,  3,  0, 16,  3,  1,\n",
              "        1,  1,  3,  1,  3,  1,  3,  1,  1,  3,  1,  1,  1,  6,  1,  1,  3,\n",
              "        1,  1,  3,  3,  1,  1,  1,  1,  1,  1,  3,  1,  1,  1,  1,  1, 16,\n",
              "        1,  1,  0,  1,  1,  1,  1,  1,  1,  1,  3, 17,  1,  3,  1,  1,  1,\n",
              "        1,  0,  3,  0,  3,  1,  1,  1,  3,  1,  1,  1,  1,  1,  3,  1,  1,\n",
              "        1, 13,  3,  1,  1,  1,  1,  3,  1,  1,  3, 10,  1,  1,  1, 15,  0,\n",
              "        1,  1,  1,  0,  1,  1,  1,  1,  3,  1,  1,  0,  1,  1,  1,  1,  1,\n",
              "        1,  1,  1,  1,  1,  0,  1,  1,  1, 12,  1,  1,  1,  1,  1,  1,  1,\n",
              "        3,  1,  0,  1,  1,  1,  1,  1,  1,  3,  1,  1,  1,  1,  1,  1,  1,\n",
              "        0,  3,  1,  1,  1,  1,  1,  3,  1,  0,  1,  1,  1,  3,  3,  1,  1,\n",
              "        3,  1,  1,  1,  1,  1,  1,  1,  1,  1,  1,  1,  1, 16, 16,  0,  1,\n",
              "        1,  0,  3,  3,  1,  3,  1,  1,  0,  1, 16,  1,  3,  0,  1,  3,  0,\n",
              "        1,  1,  1,  1,  1,  1,  1,  1,  1,  1,  1, 16,  1,  0,  1,  3,  1,\n",
              "        1,  3,  3,  0,  1,  1,  3,  1,  0,  0,  1,  1,  1,  1,  2,  0,  3,\n",
              "        1,  1,  1,  0,  7,  1,  1,  1,  1,  1,  0,  1,  1,  1,  1,  1,  1,\n",
              "       15,  0,  1,  3,  3, 16,  3,  1,  1,  1,  1,  3,  1,  1,  1,  1,  1,\n",
              "       16,  3,  1,  3,  1,  3,  1,  3,  7,  1,  0,  1,  3,  3,  1,  1,  1,\n",
              "        1,  3,  1,  1,  1,  1,  7,  1,  3,  1,  7,  7, 15,  1,  1,  1,  1,\n",
              "        3,  3,  3,  1,  1,  1, 18,  1,  1,  1,  1,  1,  1,  0,  1,  0,  0,\n",
              "        3,  3,  1,  1,  1,  1,  1,  3,  1,  1,  1,  1,  1,  1,  3,  1,  1,\n",
              "        1,  1,  1,  1,  8,  1,  3,  1,  1,  1,  1,  0,  1,  1,  1,  3,  1,\n",
              "        1,  0,  1,  3,  1,  1,  0,  1,  1,  1,  1,  3,  1,  1,  1,  1,  0,\n",
              "        1,  1,  1,  1,  1,  1,  1,  1,  1,  3,  0,  1,  3,  1,  3,  0,  1,\n",
              "        3,  0,  0,  1,  1,  1,  1,  4,  3,  3,  1,  2,  1,  1,  1,  1,  1,\n",
              "        0, 16, 16,  0,  3,  1, 16,  0,  0,  0,  0, 16,  1,  0,  1,  1,  1,\n",
              "        0,  0,  3,  1,  1,  1,  1,  1,  1,  1,  0,  0,  1,  3,  3,  1,  0,\n",
              "        0,  1,  1,  1,  1, 16,  1,  1,  1,  3,  7,  1,  1,  0,  1,  3,  1,\n",
              "        1,  1,  3,  1,  1,  3,  1,  1,  0,  1,  1,  7,  3,  1,  0,  0,  1,\n",
              "        1,  1, 11,  9,  1,  1,  1,  3,  1,  3,  1,  7,  1,  1,  1,  1,  1,\n",
              "        1,  1,  1])"
            ]
          },
          "metadata": {},
          "execution_count": 56
        }
      ]
    },
    {
      "cell_type": "code",
      "source": [
        "scaler = StandardScaler()\n",
        "\n",
        "\n",
        "x = scaler.fit_transform(x)"
      ],
      "metadata": {
        "id": "N9wvW2GhQKJE"
      },
      "execution_count": 57,
      "outputs": []
    },
    {
      "cell_type": "code",
      "source": [
        "x"
      ],
      "metadata": {
        "colab": {
          "base_uri": "https://localhost:8080/"
        },
        "id": "CYPGg2PkR6j0",
        "outputId": "383426a2-2f21-480a-bab4-54f1acbdeba3"
      },
      "execution_count": 58,
      "outputs": [
        {
          "output_type": "execute_result",
          "data": {
            "text/plain": [
              "array([[ 1.14790297,  0.21049689, -1.40594987, ..., -0.51532247,\n",
              "         0.70339004,  3.03914122],\n",
              "       [ 1.69860073, -0.7072562 ,  0.1540081 , ...,  2.46902286,\n",
              "         0.57477461, -2.95990849],\n",
              "       [-0.0929097 ,  0.02533618, -1.81113376, ..., -0.9515043 ,\n",
              "         0.57528532,  0.03961637],\n",
              "       ...,\n",
              "       [-0.01623026, -1.43179812, -0.75765565, ..., -0.68871821,\n",
              "         0.19450364,  0.03961637],\n",
              "       [-0.67149088, -1.43179812, -0.75765565, ...,  1.11201271,\n",
              "         0.31958661,  0.03961637],\n",
              "       [ 0.0395366 , -1.43179812, -0.75765565, ...,  0.08887014,\n",
              "        -0.40499238,  0.03961637]])"
            ]
          },
          "metadata": {},
          "execution_count": 58
        }
      ]
    },
    {
      "cell_type": "code",
      "source": [
        "y"
      ],
      "metadata": {
        "colab": {
          "base_uri": "https://localhost:8080/"
        },
        "id": "YDvRGD-jR7Di",
        "outputId": "1d9606be-b157-4a6a-9323-de14b3440a11"
      },
      "execution_count": 59,
      "outputs": [
        {
          "output_type": "execute_result",
          "data": {
            "text/plain": [
              "array([ 5,  3, 14, 16,  3, 16, 16,  3, 16,  5,  5,  3,  5, 16,  5, 16, 14,\n",
              "        3,  5,  2,  3, 14, 16,  3, 16, 14,  3, 16,  5, 16,  3,  3,  3,  3,\n",
              "        1,  1,  1,  1,  1, 16,  3,  1,  1,  1,  1,  1,  3,  0, 16,  3,  1,\n",
              "        1,  1,  3,  1,  3,  1,  3,  1,  1,  3,  1,  1,  1,  6,  1,  1,  3,\n",
              "        1,  1,  3,  3,  1,  1,  1,  1,  1,  1,  3,  1,  1,  1,  1,  1, 16,\n",
              "        1,  1,  0,  1,  1,  1,  1,  1,  1,  1,  3, 17,  1,  3,  1,  1,  1,\n",
              "        1,  0,  3,  0,  3,  1,  1,  1,  3,  1,  1,  1,  1,  1,  3,  1,  1,\n",
              "        1, 13,  3,  1,  1,  1,  1,  3,  1,  1,  3, 10,  1,  1,  1, 15,  0,\n",
              "        1,  1,  1,  0,  1,  1,  1,  1,  3,  1,  1,  0,  1,  1,  1,  1,  1,\n",
              "        1,  1,  1,  1,  1,  0,  1,  1,  1, 12,  1,  1,  1,  1,  1,  1,  1,\n",
              "        3,  1,  0,  1,  1,  1,  1,  1,  1,  3,  1,  1,  1,  1,  1,  1,  1,\n",
              "        0,  3,  1,  1,  1,  1,  1,  3,  1,  0,  1,  1,  1,  3,  3,  1,  1,\n",
              "        3,  1,  1,  1,  1,  1,  1,  1,  1,  1,  1,  1,  1, 16, 16,  0,  1,\n",
              "        1,  0,  3,  3,  1,  3,  1,  1,  0,  1, 16,  1,  3,  0,  1,  3,  0,\n",
              "        1,  1,  1,  1,  1,  1,  1,  1,  1,  1,  1, 16,  1,  0,  1,  3,  1,\n",
              "        1,  3,  3,  0,  1,  1,  3,  1,  0,  0,  1,  1,  1,  1,  2,  0,  3,\n",
              "        1,  1,  1,  0,  7,  1,  1,  1,  1,  1,  0,  1,  1,  1,  1,  1,  1,\n",
              "       15,  0,  1,  3,  3, 16,  3,  1,  1,  1,  1,  3,  1,  1,  1,  1,  1,\n",
              "       16,  3,  1,  3,  1,  3,  1,  3,  7,  1,  0,  1,  3,  3,  1,  1,  1,\n",
              "        1,  3,  1,  1,  1,  1,  7,  1,  3,  1,  7,  7, 15,  1,  1,  1,  1,\n",
              "        3,  3,  3,  1,  1,  1, 18,  1,  1,  1,  1,  1,  1,  0,  1,  0,  0,\n",
              "        3,  3,  1,  1,  1,  1,  1,  3,  1,  1,  1,  1,  1,  1,  3,  1,  1,\n",
              "        1,  1,  1,  1,  8,  1,  3,  1,  1,  1,  1,  0,  1,  1,  1,  3,  1,\n",
              "        1,  0,  1,  3,  1,  1,  0,  1,  1,  1,  1,  3,  1,  1,  1,  1,  0,\n",
              "        1,  1,  1,  1,  1,  1,  1,  1,  1,  3,  0,  1,  3,  1,  3,  0,  1,\n",
              "        3,  0,  0,  1,  1,  1,  1,  4,  3,  3,  1,  2,  1,  1,  1,  1,  1,\n",
              "        0, 16, 16,  0,  3,  1, 16,  0,  0,  0,  0, 16,  1,  0,  1,  1,  1,\n",
              "        0,  0,  3,  1,  1,  1,  1,  1,  1,  1,  0,  0,  1,  3,  3,  1,  0,\n",
              "        0,  1,  1,  1,  1, 16,  1,  1,  1,  3,  7,  1,  1,  0,  1,  3,  1,\n",
              "        1,  1,  3,  1,  1,  3,  1,  1,  0,  1,  1,  7,  3,  1,  0,  0,  1,\n",
              "        1,  1, 11,  9,  1,  1,  1,  3,  1,  3,  1,  7,  1,  1,  1,  1,  1,\n",
              "        1,  1,  1])"
            ]
          },
          "metadata": {},
          "execution_count": 59
        }
      ]
    },
    {
      "cell_type": "code",
      "source": [
        "from sklearn.model_selection import train_test_split"
      ],
      "metadata": {
        "id": "RRSb01CaR9fb"
      },
      "execution_count": 64,
      "outputs": []
    },
    {
      "cell_type": "code",
      "source": [
        "x_train, x_test, y_train, y_test = train_test_split(x, y, test_size=0.35, random_state=80)"
      ],
      "metadata": {
        "id": "tPRsyexgUChv"
      },
      "execution_count": 65,
      "outputs": []
    },
    {
      "cell_type": "code",
      "source": [
        "from sklearn.metrics import accuracy_score\n",
        "import sklearn.metrics"
      ],
      "metadata": {
        "id": "zSkmvH3IWRJ6"
      },
      "execution_count": 82,
      "outputs": []
    },
    {
      "cell_type": "code",
      "source": [
        "from sklearn.ensemble import RandomForestClassifier"
      ],
      "metadata": {
        "id": "G1GCHJc-ksKS"
      },
      "execution_count": 112,
      "outputs": []
    },
    {
      "cell_type": "code",
      "source": [
        "model = RandomForestClassifier(n_estimators=200, random_state=42)\n",
        "model.fit(x_train, y_train)"
      ],
      "metadata": {
        "colab": {
          "base_uri": "https://localhost:8080/",
          "height": 75
        },
        "id": "B2cBeLCGkyBv",
        "outputId": "76a89660-9db3-4be7-9920-39ac5796687b"
      },
      "execution_count": 120,
      "outputs": [
        {
          "output_type": "execute_result",
          "data": {
            "text/plain": [
              "RandomForestClassifier(n_estimators=200, random_state=42)"
            ],
            "text/html": [
              "<style>#sk-container-id-8 {color: black;background-color: white;}#sk-container-id-8 pre{padding: 0;}#sk-container-id-8 div.sk-toggleable {background-color: white;}#sk-container-id-8 label.sk-toggleable__label {cursor: pointer;display: block;width: 100%;margin-bottom: 0;padding: 0.3em;box-sizing: border-box;text-align: center;}#sk-container-id-8 label.sk-toggleable__label-arrow:before {content: \"▸\";float: left;margin-right: 0.25em;color: #696969;}#sk-container-id-8 label.sk-toggleable__label-arrow:hover:before {color: black;}#sk-container-id-8 div.sk-estimator:hover label.sk-toggleable__label-arrow:before {color: black;}#sk-container-id-8 div.sk-toggleable__content {max-height: 0;max-width: 0;overflow: hidden;text-align: left;background-color: #f0f8ff;}#sk-container-id-8 div.sk-toggleable__content pre {margin: 0.2em;color: black;border-radius: 0.25em;background-color: #f0f8ff;}#sk-container-id-8 input.sk-toggleable__control:checked~div.sk-toggleable__content {max-height: 200px;max-width: 100%;overflow: auto;}#sk-container-id-8 input.sk-toggleable__control:checked~label.sk-toggleable__label-arrow:before {content: \"▾\";}#sk-container-id-8 div.sk-estimator input.sk-toggleable__control:checked~label.sk-toggleable__label {background-color: #d4ebff;}#sk-container-id-8 div.sk-label input.sk-toggleable__control:checked~label.sk-toggleable__label {background-color: #d4ebff;}#sk-container-id-8 input.sk-hidden--visually {border: 0;clip: rect(1px 1px 1px 1px);clip: rect(1px, 1px, 1px, 1px);height: 1px;margin: -1px;overflow: hidden;padding: 0;position: absolute;width: 1px;}#sk-container-id-8 div.sk-estimator {font-family: monospace;background-color: #f0f8ff;border: 1px dotted black;border-radius: 0.25em;box-sizing: border-box;margin-bottom: 0.5em;}#sk-container-id-8 div.sk-estimator:hover {background-color: #d4ebff;}#sk-container-id-8 div.sk-parallel-item::after {content: \"\";width: 100%;border-bottom: 1px solid gray;flex-grow: 1;}#sk-container-id-8 div.sk-label:hover label.sk-toggleable__label {background-color: #d4ebff;}#sk-container-id-8 div.sk-serial::before {content: \"\";position: absolute;border-left: 1px solid gray;box-sizing: border-box;top: 0;bottom: 0;left: 50%;z-index: 0;}#sk-container-id-8 div.sk-serial {display: flex;flex-direction: column;align-items: center;background-color: white;padding-right: 0.2em;padding-left: 0.2em;position: relative;}#sk-container-id-8 div.sk-item {position: relative;z-index: 1;}#sk-container-id-8 div.sk-parallel {display: flex;align-items: stretch;justify-content: center;background-color: white;position: relative;}#sk-container-id-8 div.sk-item::before, #sk-container-id-8 div.sk-parallel-item::before {content: \"\";position: absolute;border-left: 1px solid gray;box-sizing: border-box;top: 0;bottom: 0;left: 50%;z-index: -1;}#sk-container-id-8 div.sk-parallel-item {display: flex;flex-direction: column;z-index: 1;position: relative;background-color: white;}#sk-container-id-8 div.sk-parallel-item:first-child::after {align-self: flex-end;width: 50%;}#sk-container-id-8 div.sk-parallel-item:last-child::after {align-self: flex-start;width: 50%;}#sk-container-id-8 div.sk-parallel-item:only-child::after {width: 0;}#sk-container-id-8 div.sk-dashed-wrapped {border: 1px dashed gray;margin: 0 0.4em 0.5em 0.4em;box-sizing: border-box;padding-bottom: 0.4em;background-color: white;}#sk-container-id-8 div.sk-label label {font-family: monospace;font-weight: bold;display: inline-block;line-height: 1.2em;}#sk-container-id-8 div.sk-label-container {text-align: center;}#sk-container-id-8 div.sk-container {/* jupyter's `normalize.less` sets `[hidden] { display: none; }` but bootstrap.min.css set `[hidden] { display: none !important; }` so we also need the `!important` here to be able to override the default hidden behavior on the sphinx rendered scikit-learn.org. See: https://github.com/scikit-learn/scikit-learn/issues/21755 */display: inline-block !important;position: relative;}#sk-container-id-8 div.sk-text-repr-fallback {display: none;}</style><div id=\"sk-container-id-8\" class=\"sk-top-container\"><div class=\"sk-text-repr-fallback\"><pre>RandomForestClassifier(n_estimators=200, random_state=42)</pre><b>In a Jupyter environment, please rerun this cell to show the HTML representation or trust the notebook. <br />On GitHub, the HTML representation is unable to render, please try loading this page with nbviewer.org.</b></div><div class=\"sk-container\" hidden><div class=\"sk-item\"><div class=\"sk-estimator sk-toggleable\"><input class=\"sk-toggleable__control sk-hidden--visually\" id=\"sk-estimator-id-8\" type=\"checkbox\" checked><label for=\"sk-estimator-id-8\" class=\"sk-toggleable__label sk-toggleable__label-arrow\">RandomForestClassifier</label><div class=\"sk-toggleable__content\"><pre>RandomForestClassifier(n_estimators=200, random_state=42)</pre></div></div></div></div></div>"
            ]
          },
          "metadata": {},
          "execution_count": 120
        }
      ]
    },
    {
      "cell_type": "code",
      "source": [
        "y_pred = model.predict(x_test)"
      ],
      "metadata": {
        "id": "KSz7hStpk5Gx"
      },
      "execution_count": 121,
      "outputs": []
    },
    {
      "cell_type": "code",
      "source": [
        "accuracy = accuracy_score(y_test, y_pred)\n",
        "print(f\"Accuracy: {accuracy}\")"
      ],
      "metadata": {
        "colab": {
          "base_uri": "https://localhost:8080/"
        },
        "id": "HZ7tqL6Zk-bN",
        "outputId": "fa5a82c2-d048-468f-dd0e-741037b14040"
      },
      "execution_count": 122,
      "outputs": [
        {
          "output_type": "stream",
          "name": "stdout",
          "text": [
            "Accuracy: 0.6236559139784946\n"
          ]
        }
      ]
    },
    {
      "cell_type": "code",
      "source": [
        "confusion_matrix = pd.crosstab(y_test, y_pred, rownames=['Actual'], colnames=['Predicted'])\n",
        "sns.heatmap(confusion_matrix, annot=True)"
      ],
      "metadata": {
        "colab": {
          "base_uri": "https://localhost:8080/",
          "height": 467
        },
        "id": "2H2PDCjAV3y8",
        "outputId": "4d2d5edb-64a6-4e1f-ea71-0143d3a518cb"
      },
      "execution_count": 123,
      "outputs": [
        {
          "output_type": "execute_result",
          "data": {
            "text/plain": [
              "<Axes: xlabel='Predicted', ylabel='Actual'>"
            ]
          },
          "metadata": {},
          "execution_count": 123
        },
        {
          "output_type": "display_data",
          "data": {
            "text/plain": [
              "<Figure size 640x480 with 2 Axes>"
            ],
            "image/png": "[encoded data removed]"
          },
          "metadata": {}
        }
      ]
    },
    {
      "cell_type": "code",
      "source": [
        "import pickle\n",
        "\n",
        "pickle.dump(model, open ('model.sav', 'wb'))"
      ],
      "metadata": {
        "id": "f2b5hhoqoVB1"
      },
      "execution_count": 125,
      "outputs": []
    },
    {
      "cell_type": "code",
      "source": [],
      "metadata": {
        "id": "kUpKHnUJoaxa"
      },
      "execution_count": null,
      "outputs": []
    }
  ]
}